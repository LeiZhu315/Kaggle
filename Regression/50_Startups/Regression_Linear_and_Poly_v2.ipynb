{
 "cells": [
  {
   "cell_type": "code",
   "execution_count": 4,
   "metadata": {},
   "outputs": [],
   "source": [
    "import numpy as np\n",
    "import matplotlib.pyplot as plt\n",
    "from mpl_toolkits import mplot3d\n",
    "import pandas as pd\n",
    "import scipy\n",
    "import torch\n",
    "from sklearn.compose import ColumnTransformer\n",
    "from sklearn.preprocessing import OneHotEncoder\n",
    "from sklearn.preprocessing import normalize\n",
    "from sklearn.model_selection import train_test_split\n",
    "import sklearn.metrics as metrics\n",
    "import warnings\n",
    "warnings.filterwarnings('ignore')"
   ]
  },
  {
   "cell_type": "code",
   "execution_count": 5,
   "metadata": {},
   "outputs": [
    {
     "name": "stdout",
     "output_type": "stream",
     "text": [
      "Coefficients: \n",
      " [ 8.66383692e+01 -8.72645791e+02  7.86007422e+02  7.73467193e-01\n",
      "  3.28845975e-02  3.66100259e-02]\n",
      "R_sqrd_train = 0.9502 || R_sqrd_test = 0.9347\n",
      "MSE_train = 81571001.8008 || MSE_test = 83502864.0326\n"
     ]
    }
   ],
   "source": [
    "# Part-one: linear regression\n",
    "from sklearn.linear_model import LinearRegression\n",
    "# load data\n",
    "dataset = pd.read_csv('50_Startups.csv')\n",
    "target = dataset.values[:,-1]\n",
    "inputs = dataset.values[:,:-1]\n",
    "# column_name = dataset.columns\n",
    "\n",
    "# prepare data: \n",
    "# one-hot encoding categorical data\n",
    "ct = ColumnTransformer(transformers=[('encoder', OneHotEncoder(), [3])], remainder='passthrough')\n",
    "inputs = ct.fit_transform(inputs)\n",
    "# normalise input data\n",
    "# inputs = normalize(inputs, axis=0)\n",
    "# split data\n",
    "inputs_train, inputs_test, target_train, target_test = train_test_split(inputs, target, test_size = 0.2, random_state = 0)\n",
    "\n",
    "# model\n",
    "regressor = LinearRegression()\n",
    "regressor.fit(inputs_train, target_train)\n",
    "print(\"Coefficients: \\n\", regressor.coef_)\n",
    "# sensitivity\n",
    "# header =['California','Florida','New York','R&D Spend','Administration','Marketing Spend']\n",
    "# fig = plt.figure(figsize=(8, 4))\n",
    "# ax = fig.add_axes([0,0,1,1])\n",
    "# ax.bar(header,regressor.coef_)\n",
    "# plt.show()\n",
    "\n",
    "# eval result\n",
    "target_train_p = regressor.predict(inputs_train)\n",
    "target_test_p = regressor.predict(inputs_test)\n",
    "target_p = np.concatenate((target_train_p,target_test_p), axis=0)\n",
    "\n",
    "Rsq_train = metrics.r2_score(target_train, target_train_p)\n",
    "Rsq_test = metrics.r2_score(target_test, target_test_p)\n",
    "print(\"R_sqrd_train = %.4f || R_sqrd_test = %.4f\" % (Rsq_train, Rsq_test))\n",
    "\n",
    "MSE_train = metrics.mean_squared_error(target_train, target_train_p)\n",
    "MSE_test = metrics.mean_squared_error(target_test, target_test_p)\n",
    "print(\"MSE_train = %.4f || MSE_test = %.4f\" % (MSE_train, MSE_test))\n",
    "\n",
    "# response surface\n",
    "# fig = plt.figure(figsize=(9, 8))\n",
    "# ax = plt.axes(projection =\"3d\")\n",
    "# sctt = ax.scatter3D(inputs[:,3], inputs[:,4], target_p, s=30,\n",
    "#             alpha = 0.8, c = target_p, cmap = 'hsv', marker ='o')\n",
    "# plt.title(\"50 Startups\")\n",
    "# ax.set_xlabel('R&D Spend $', fontweight ='bold', fontsize=15, rotation=0)\n",
    "# ax.set_ylabel('Administration $', fontweight ='bold', fontsize=15, rotation=0)\n",
    "# ax.set_zlabel('Profit $', fontweight ='bold', fontsize=15, rotation=0)\n",
    "# # fig.colorbar(sctt, ax = ax, shrink = 0.5, aspect = 5)\n",
    "# plt.show()"
   ]
  },
  {
   "cell_type": "code",
   "execution_count": 29,
   "metadata": {},
   "outputs": [
    {
     "name": "stdout",
     "output_type": "stream",
     "text": [
      "Coefficients: \n",
      " [ 4.64624059e-11 -3.25627815e+03  1.59488277e+03  1.89663972e+03\n",
      "  1.80061105e+04  8.52175338e+03  2.06744592e+04 -3.25627815e+03\n",
      "  1.09139364e-11  3.63797881e-12  1.05082411e+04  2.64547802e+03\n",
      "  9.21842211e+03  1.59488277e+03  3.63797881e-12  3.29450666e+03\n",
      "  1.37007205e+03  4.46444963e+03  1.89663972e+03  5.49698114e+03\n",
      " -3.29193558e+02  7.67859260e+03 -1.70505449e+04  1.76758898e+04\n",
      "  1.59174229e+04 -3.07438983e+03 -3.19986035e+04  1.66925447e+02]\n",
      "R_sqrd_train = 0.9655 || R_sqrd_test = 0.9074\n",
      "MSE_train = 56457075.4956 || MSE_test = 118378941.1371\n"
     ]
    }
   ],
   "source": [
    "# Part-two: polynomial regression\n",
    "from sklearn.preprocessing import PolynomialFeatures\n",
    "from sklearn.pipeline import Pipeline\n",
    "from sklearn.preprocessing import StandardScaler\n",
    "# load data\n",
    "dataset = pd.read_csv('50_Startups.csv')\n",
    "target = dataset.values[:,-1]\n",
    "inputs = dataset.values[:,:-1]\n",
    "\n",
    "# prepare data\n",
    "ct = ColumnTransformer(transformers=[('encoder', OneHotEncoder(), [3])], remainder='passthrough')\n",
    "inputs = ct.fit_transform(inputs)\n",
    "inputs_train, inputs_test, target_train, target_test = train_test_split(inputs, target, test_size = 0.2, random_state = 0)\n",
    "poly_reg = Pipeline([\n",
    "    (\"poly\", PolynomialFeatures(degree=2)),\n",
    "    (\"std_scaler\", StandardScaler()),\n",
    "    (\"lin_reg\", LinearRegression())\n",
    "])\n",
    "\n",
    "poly_reg.fit(inputs_train, target_train)\n",
    "y_predict = poly_reg.predict(inputs_test)\n",
    "print(\"Coefficients: \\n\", poly_reg.named_steps['lin_reg'].coef_)\n",
    "\n",
    "# plot result\n",
    "target_train_p = poly_reg.predict(inputs_train)\n",
    "target_test_p = poly_reg.predict(inputs_test)\n",
    "target_p = np.concatenate((target_train_p,target_test_p), axis=0)\n",
    "\n",
    "Rsq_train = metrics.r2_score(target_train, target_train_p)\n",
    "Rsq_test = metrics.r2_score(target_test, target_test_p)\n",
    "print(\"R_sqrd_train = %.4f || R_sqrd_test = %.4f\" % (Rsq_train, Rsq_test))\n",
    "\n",
    "MSE_train = metrics.mean_squared_error(target_train, target_train_p)\n",
    "MSE_test = metrics.mean_squared_error(target_test, target_test_p)\n",
    "print(\"MSE_train = %.4f || MSE_test = %.4f\" % (MSE_train, MSE_test))"
   ]
  },
  {
   "cell_type": "code",
   "execution_count": 20,
   "metadata": {},
   "outputs": [
    {
     "name": "stdout",
     "output_type": "stream",
     "text": [
      "[0.22461875302759032, -6984.462961614919, 3345.6369359236005, 3638.880763853216, 0.424714486976668, 0.26049245809881577, 0.17147234018873467, -6984.407464688569, -4.165353857388254e-07, 4.4557987166626845e-07, 0.2147567902879512, 0.11102294408160233, 0.07719869041475944, 3345.536960334557, 1.3650833352585323e-08, 0.05528870134310309, 0.09359703537767239, 0.03700393469187236, 3638.870503243771, 0.07743747099631416, 0.06329995338775919, 0.05378136594726685, -2.323298358138162e-06, 2.6819027931669167e-06, 8.246834495523684e-07, -5.270299669165385e-07, -1.8825178337305204e-06, 3.159808450153218e-09]\n"
     ]
    }
   ],
   "source": [
    "# feature_names = regressor.get_feature_names_out()\n",
    "\n",
    "# coefs = pd.DataFrame(\n",
    "#     regressor.coef_,\n",
    "#     columns=[\"Coefficients\"],\n",
    "#     index=feature_names,\n",
    "# )\n",
    "\n",
    "# coefs\n",
    "print(list(zip(regressor.coef_, regressor.feature_names_in_)))"
   ]
  },
  {
   "cell_type": "code",
   "execution_count": null,
   "metadata": {},
   "outputs": [],
   "source": []
  }
 ],
 "metadata": {
  "kernelspec": {
   "display_name": "Python 3",
   "language": "python",
   "name": "python3"
  },
  "language_info": {
   "codemirror_mode": {
    "name": "ipython",
    "version": 3
   },
   "file_extension": ".py",
   "mimetype": "text/x-python",
   "name": "python",
   "nbconvert_exporter": "python",
   "pygments_lexer": "ipython3",
   "version": "3.7.1"
  }
 },
 "nbformat": 4,
 "nbformat_minor": 2
}
